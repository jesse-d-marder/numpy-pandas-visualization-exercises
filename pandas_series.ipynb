{
 "cells": [
  {
   "cell_type": "markdown",
   "id": "98b30d15-8f6a-4038-aeef-bbe578eb42ea",
   "metadata": {},
   "source": [
    "## Exercises Part I\n",
    "\n",
    "Make a file named `pandas_series.py` or `pandas_series.ipynb` for the following exercises.\n",
    "\n",
    "Use pandas to create a Series named fruits from the following list:\n",
    "\n",
    "        [\"kiwi\", \"mango\", \"strawberry\", \"pineapple\", \"gala apple\", \"honeycrisp apple\", \"tomato\", \"watermelon\", \"honeydew\", \"kiwi\", \"kiwi\", \"kiwi\", \"mango\", \"blueberry\", \"blackberry\", \"gooseberry\", \"papaya\"]\n",
    "        \n",
    "Use Series attributes and methods to explore your fruits Series."
   ]
  },
  {
   "cell_type": "code",
   "execution_count": 285,
   "id": "96d802da-b386-481d-ac7d-2877652caf8a",
   "metadata": {},
   "outputs": [],
   "source": [
    "import pandas as pd"
   ]
  },
  {
   "cell_type": "code",
   "execution_count": 286,
   "id": "5fd38a71-b04b-43f4-944b-e6c033316d5b",
   "metadata": {},
   "outputs": [],
   "source": [
    "fruits = [\"kiwi\", \"mango\", \"strawberry\", \"pineapple\", \"gala apple\", \"honeycrisp apple\", \"tomato\", \"watermelon\", \"honeydew\", \"kiwi\", \"kiwi\", \"kiwi\", \"mango\", \"blueberry\", \"blackberry\", \"gooseberry\", \"papaya\"]"
   ]
  },
  {
   "cell_type": "code",
   "execution_count": 287,
   "id": "5b957adc-8b0c-4d57-be24-7fbeb91ce2d3",
   "metadata": {},
   "outputs": [],
   "source": [
    "fruits = pd.Series(fruits)"
   ]
  },
  {
   "cell_type": "code",
   "execution_count": 288,
   "id": "1ad7fbe3-bd60-4e1f-9531-852bc6a32806",
   "metadata": {},
   "outputs": [
    {
     "data": {
      "text/plain": [
       "pandas.core.series.Series"
      ]
     },
     "execution_count": 288,
     "metadata": {},
     "output_type": "execute_result"
    }
   ],
   "source": [
    "type(fruits)"
   ]
  },
  {
   "cell_type": "markdown",
   "id": "8bb26db3-d966-4517-8da1-cd1670589be3",
   "metadata": {},
   "source": [
    "1. Determine the number of elements in fruits.\n",
    "    "
   ]
  },
  {
   "cell_type": "code",
   "execution_count": 289,
   "id": "7b428dc2-026f-43e8-a547-1a8573c4c8a7",
   "metadata": {},
   "outputs": [
    {
     "data": {
      "text/plain": [
       "17"
      ]
     },
     "execution_count": 289,
     "metadata": {},
     "output_type": "execute_result"
    }
   ],
   "source": [
    "len(fruits)"
   ]
  },
  {
   "cell_type": "markdown",
   "id": "b92680fd-dc25-4277-ac59-e12096a1fb22",
   "metadata": {},
   "source": [
    "2. Output only the index from fruits.\n",
    "    "
   ]
  },
  {
   "cell_type": "code",
   "execution_count": 290,
   "id": "d03e4ebb-77e7-4a00-8825-80529dab6e84",
   "metadata": {},
   "outputs": [
    {
     "name": "stdout",
     "output_type": "stream",
     "text": [
      "RangeIndex(start=0, stop=17, step=1)\n"
     ]
    }
   ],
   "source": [
    "print(fruits.index)"
   ]
  },
  {
   "cell_type": "markdown",
   "id": "837e21ef-b136-4dc0-85c8-b512d9e72538",
   "metadata": {},
   "source": [
    "3. Output only the values from fruits.\n",
    "    "
   ]
  },
  {
   "cell_type": "code",
   "execution_count": 291,
   "id": "2c272262-e150-48ca-b8fa-41f72d57cec0",
   "metadata": {},
   "outputs": [
    {
     "name": "stdout",
     "output_type": "stream",
     "text": [
      "['kiwi' 'mango' 'strawberry' 'pineapple' 'gala apple' 'honeycrisp apple'\n",
      " 'tomato' 'watermelon' 'honeydew' 'kiwi' 'kiwi' 'kiwi' 'mango' 'blueberry'\n",
      " 'blackberry' 'gooseberry' 'papaya']\n"
     ]
    }
   ],
   "source": [
    "print(fruits.values)"
   ]
  },
  {
   "cell_type": "markdown",
   "id": "9c06595f-c5b8-4339-a7c1-4ddd60c6aecf",
   "metadata": {},
   "source": [
    "4. Confirm the data type of the values in fruits.\n",
    "    "
   ]
  },
  {
   "cell_type": "code",
   "execution_count": 292,
   "id": "2ccf3ff5-92bc-4ff6-9d5c-7a891ebe2350",
   "metadata": {},
   "outputs": [
    {
     "data": {
      "text/plain": [
       "dtype('O')"
      ]
     },
     "execution_count": 292,
     "metadata": {},
     "output_type": "execute_result"
    }
   ],
   "source": [
    "fruits.dtype"
   ]
  },
  {
   "cell_type": "markdown",
   "id": "07f7bd62-88ed-40b4-849f-395a69703a14",
   "metadata": {},
   "source": [
    "5. Output only the first five values from fruits. Output the last three values. Output two random values from fruits.\n",
    "    "
   ]
  },
  {
   "cell_type": "code",
   "execution_count": 293,
   "id": "26f5a6f6-d637-46dd-ae06-b490d3dc7305",
   "metadata": {},
   "outputs": [
    {
     "data": {
      "text/plain": [
       "0          kiwi\n",
       "1         mango\n",
       "2    strawberry\n",
       "3     pineapple\n",
       "4    gala apple\n",
       "dtype: object"
      ]
     },
     "execution_count": 293,
     "metadata": {},
     "output_type": "execute_result"
    }
   ],
   "source": [
    "fruits[0:5]"
   ]
  },
  {
   "cell_type": "code",
   "execution_count": 294,
   "id": "b4f2d0eb-bf88-4b1e-ade7-d74fe56986dc",
   "metadata": {},
   "outputs": [
    {
     "data": {
      "text/plain": [
       "14    blackberry\n",
       "15    gooseberry\n",
       "16        papaya\n",
       "dtype: object"
      ]
     },
     "execution_count": 294,
     "metadata": {},
     "output_type": "execute_result"
    }
   ],
   "source": [
    "fruits[-3:]"
   ]
  },
  {
   "cell_type": "code",
   "execution_count": 295,
   "id": "11fd5b76-e624-4466-9081-0b779cbbca83",
   "metadata": {},
   "outputs": [
    {
     "data": {
      "text/plain": [
       "8      honeydew\n",
       "7    watermelon\n",
       "2    strawberry\n",
       "dtype: object"
      ]
     },
     "execution_count": 295,
     "metadata": {},
     "output_type": "execute_result"
    }
   ],
   "source": [
    "fruits.sample(3)"
   ]
  },
  {
   "cell_type": "markdown",
   "id": "61a2ee29-0d90-49fe-b552-1d09ce993b2a",
   "metadata": {},
   "source": [
    "6. Run the `.describe()` on fruits to see what information it returns when called on a  Series with string values."
   ]
  },
  {
   "cell_type": "code",
   "execution_count": 296,
   "id": "138cfabf-7b51-4647-9674-9d5fe0fe9a4b",
   "metadata": {},
   "outputs": [
    {
     "data": {
      "text/plain": [
       "count       17\n",
       "unique      13\n",
       "top       kiwi\n",
       "freq         4\n",
       "dtype: object"
      ]
     },
     "execution_count": 296,
     "metadata": {},
     "output_type": "execute_result"
    }
   ],
   "source": [
    "fruits.describe()"
   ]
  },
  {
   "cell_type": "markdown",
   "id": "de57dd8d-0ac7-48ea-bf64-750867967473",
   "metadata": {},
   "source": [
    "7. Run the code necessary to produce only the unique string values from fruits."
   ]
  },
  {
   "cell_type": "code",
   "execution_count": 297,
   "id": "0dd3ff38-6041-4dae-a6cc-5f9fb3e4fe06",
   "metadata": {},
   "outputs": [
    {
     "data": {
      "text/plain": [
       "array(['kiwi', 'mango', 'strawberry', 'pineapple', 'gala apple',\n",
       "       'honeycrisp apple', 'tomato', 'watermelon', 'honeydew',\n",
       "       'blueberry', 'blackberry', 'gooseberry', 'papaya'], dtype=object)"
      ]
     },
     "execution_count": 297,
     "metadata": {},
     "output_type": "execute_result"
    }
   ],
   "source": [
    "fruits.unique()"
   ]
  },
  {
   "cell_type": "markdown",
   "id": "212e0429-af28-4b69-967a-203f027f8df1",
   "metadata": {},
   "source": [
    "8. Determine how many times each unique string value occurs in fruits."
   ]
  },
  {
   "cell_type": "code",
   "execution_count": 298,
   "id": "e2ada281-b77d-48be-bc0f-a517c9658d93",
   "metadata": {},
   "outputs": [
    {
     "data": {
      "text/plain": [
       "kiwi                4\n",
       "mango               2\n",
       "strawberry          1\n",
       "pineapple           1\n",
       "gala apple          1\n",
       "honeycrisp apple    1\n",
       "tomato              1\n",
       "watermelon          1\n",
       "honeydew            1\n",
       "blueberry           1\n",
       "blackberry          1\n",
       "gooseberry          1\n",
       "papaya              1\n",
       "dtype: int64"
      ]
     },
     "execution_count": 298,
     "metadata": {},
     "output_type": "execute_result"
    }
   ],
   "source": [
    "fruits.value_counts()"
   ]
  },
  {
   "cell_type": "markdown",
   "id": "992b01e7-b7e1-4875-ab60-728d13b8196c",
   "metadata": {},
   "source": [
    "9. Determine the string value that occurs most frequently in fruits."
   ]
  },
  {
   "cell_type": "code",
   "execution_count": 299,
   "id": "8683893b-0489-4dc5-a437-ea52af6abc59",
   "metadata": {},
   "outputs": [],
   "source": [
    "counts = fruits.value_counts().sort_values(ascending = False)"
   ]
  },
  {
   "cell_type": "code",
   "execution_count": 300,
   "id": "7adc5eea-b499-4a7c-992c-64ccf755e184",
   "metadata": {},
   "outputs": [
    {
     "data": {
      "text/plain": [
       "'kiwi'"
      ]
     },
     "execution_count": 300,
     "metadata": {},
     "output_type": "execute_result"
    }
   ],
   "source": [
    "counts.index[0]"
   ]
  },
  {
   "cell_type": "markdown",
   "id": "4c919945-437d-43c1-a0cd-43c3c585edc9",
   "metadata": {},
   "source": [
    "10. Determine the string value that occurs least frequently in fruits."
   ]
  },
  {
   "cell_type": "code",
   "execution_count": 301,
   "id": "1438aaeb-bb76-4639-a8fa-fd717cd9f38a",
   "metadata": {},
   "outputs": [
    {
     "data": {
      "text/plain": [
       "Index(['strawberry', 'pineapple', 'gala apple', 'honeycrisp apple', 'tomato',\n",
       "       'watermelon', 'honeydew', 'blueberry', 'blackberry', 'gooseberry',\n",
       "       'papaya'],\n",
       "      dtype='object')"
      ]
     },
     "execution_count": 301,
     "metadata": {},
     "output_type": "execute_result"
    }
   ],
   "source": [
    "counts.index[counts == min(counts)]"
   ]
  },
  {
   "cell_type": "markdown",
   "id": "2a08c7fb-471f-434c-bde9-badf7a8a29ba",
   "metadata": {},
   "source": [
    "___"
   ]
  },
  {
   "cell_type": "markdown",
   "id": "cf2c9abb-4a2c-4795-8c10-07f4fee44750",
   "metadata": {},
   "source": [
    "## Exercises Part II\n",
    "\n",
    " Explore more attributes and methods while you continue to work with the fruits Series."
   ]
  },
  {
   "cell_type": "markdown",
   "id": "a1e340ff-c573-4ad0-b6c3-959478cb3a6a",
   "metadata": {},
   "source": [
    "1. Capitalize all the string values in fruits."
   ]
  },
  {
   "cell_type": "code",
   "execution_count": 302,
   "id": "271f1375-8b42-4945-9437-006264967f22",
   "metadata": {},
   "outputs": [],
   "source": [
    "fruits = fruits.str.capitalize()"
   ]
  },
  {
   "cell_type": "code",
   "execution_count": 303,
   "id": "b8c2c11d-2241-48ad-bef7-58c42ac89100",
   "metadata": {},
   "outputs": [
    {
     "data": {
      "text/plain": [
       "0                 Kiwi\n",
       "1                Mango\n",
       "2           Strawberry\n",
       "3            Pineapple\n",
       "4           Gala apple\n",
       "5     Honeycrisp apple\n",
       "6               Tomato\n",
       "7           Watermelon\n",
       "8             Honeydew\n",
       "9                 Kiwi\n",
       "10                Kiwi\n",
       "11                Kiwi\n",
       "12               Mango\n",
       "13           Blueberry\n",
       "14          Blackberry\n",
       "15          Gooseberry\n",
       "16              Papaya\n",
       "dtype: object"
      ]
     },
     "execution_count": 303,
     "metadata": {},
     "output_type": "execute_result"
    }
   ],
   "source": [
    "fruits"
   ]
  },
  {
   "cell_type": "markdown",
   "id": "95c62c43-1f4e-4c7e-b4e2-8ef2d6625cdb",
   "metadata": {},
   "source": [
    "2. Count the letter \"a\" in all the string values (use string vectorization)."
   ]
  },
  {
   "cell_type": "code",
   "execution_count": 304,
   "id": "547af902-e34d-4fbe-97e3-283b41cf6eae",
   "metadata": {},
   "outputs": [
    {
     "data": {
      "text/plain": [
       "0     0\n",
       "1     1\n",
       "2     1\n",
       "3     1\n",
       "4     3\n",
       "5     1\n",
       "6     1\n",
       "7     1\n",
       "8     0\n",
       "9     0\n",
       "10    0\n",
       "11    0\n",
       "12    1\n",
       "13    0\n",
       "14    1\n",
       "15    0\n",
       "16    3\n",
       "dtype: int64"
      ]
     },
     "execution_count": 304,
     "metadata": {},
     "output_type": "execute_result"
    }
   ],
   "source": [
    "fruits.str.count('a')"
   ]
  },
  {
   "cell_type": "markdown",
   "id": "319b3d3b-f926-4d69-8f45-e5640a62da96",
   "metadata": {},
   "source": [
    "3. Output the number of vowels in each and every string value.\n",
    "    "
   ]
  },
  {
   "cell_type": "code",
   "execution_count": 305,
   "id": "b747ed42-0d55-4042-b4fe-40133ee0c8ba",
   "metadata": {},
   "outputs": [
    {
     "data": {
      "text/plain": [
       "0     2\n",
       "1     2\n",
       "2     2\n",
       "3     4\n",
       "4     4\n",
       "5     5\n",
       "6     3\n",
       "7     4\n",
       "8     3\n",
       "9     2\n",
       "10    2\n",
       "11    2\n",
       "12    2\n",
       "13    3\n",
       "14    2\n",
       "15    4\n",
       "16    3\n",
       "dtype: int64"
      ]
     },
     "execution_count": 305,
     "metadata": {},
     "output_type": "execute_result"
    }
   ],
   "source": [
    "num_vowels = fruits.apply(lambda n: n.count('a')+n.count('e')+n.count('i')+n.count('o')+n.count('u'))\n",
    "num_vowels"
   ]
  },
  {
   "cell_type": "markdown",
   "id": "6fd0d74d-9342-44f4-be50-29a824ab2004",
   "metadata": {},
   "source": [
    "4. Write the code to get the longest string value from fruits."
   ]
  },
  {
   "cell_type": "code",
   "execution_count": 306,
   "id": "c4d0da0c-0244-4608-aa23-66e2e48f7e6f",
   "metadata": {},
   "outputs": [
    {
     "data": {
      "text/plain": [
       "5    Honeycrisp apple\n",
       "dtype: object"
      ]
     },
     "execution_count": 306,
     "metadata": {},
     "output_type": "execute_result"
    }
   ],
   "source": [
    "fruits[fruits.apply(lambda n: len(n) == max(fruits.apply(lambda n: len(n))))]"
   ]
  },
  {
   "cell_type": "markdown",
   "id": "3df2db58-c23e-4e8d-88d0-0b3d94a76c14",
   "metadata": {},
   "source": [
    "5. Write the code to get the string values with 5 or more letters in the name."
   ]
  },
  {
   "cell_type": "code",
   "execution_count": 307,
   "id": "f999320b-d38e-4148-8750-ec1ce0699665",
   "metadata": {},
   "outputs": [
    {
     "data": {
      "text/plain": [
       "array(['Mango', 'Strawberry', 'Pineapple', 'Gala apple',\n",
       "       'Honeycrisp apple', 'Tomato', 'Watermelon', 'Honeydew',\n",
       "       'Blueberry', 'Blackberry', 'Gooseberry', 'Papaya'], dtype=object)"
      ]
     },
     "execution_count": 307,
     "metadata": {},
     "output_type": "execute_result"
    }
   ],
   "source": [
    "fruits[fruits.apply(lambda n: len(n) >= 5)].unique()"
   ]
  },
  {
   "cell_type": "markdown",
   "id": "60ef3b36-932a-4806-85f3-a7d7b9b928b4",
   "metadata": {},
   "source": [
    "6. Use the `.apply` method with a lambda function to find the fruit(s) containing the letter `\"o\"` two or more times."
   ]
  },
  {
   "cell_type": "code",
   "execution_count": 308,
   "id": "7c07be82-fc5f-4a04-8208-e63808254991",
   "metadata": {},
   "outputs": [
    {
     "data": {
      "text/plain": [
       "6         Tomato\n",
       "15    Gooseberry\n",
       "dtype: object"
      ]
     },
     "execution_count": 308,
     "metadata": {},
     "output_type": "execute_result"
    }
   ],
   "source": [
    "fruits[fruits.apply(lambda n: n.count('o')>=2)]"
   ]
  },
  {
   "cell_type": "markdown",
   "id": "8c939b0a-cb72-41cb-918c-3dced456984d",
   "metadata": {},
   "source": [
    "7. Write the code to get only the string values containing the substring \"berry\"."
   ]
  },
  {
   "cell_type": "code",
   "execution_count": 309,
   "id": "82c6335a-c38b-486a-ab5a-4b736b0f7534",
   "metadata": {},
   "outputs": [
    {
     "data": {
      "text/plain": [
       "2     Strawberry\n",
       "13     Blueberry\n",
       "14    Blackberry\n",
       "15    Gooseberry\n",
       "dtype: object"
      ]
     },
     "execution_count": 309,
     "metadata": {},
     "output_type": "execute_result"
    }
   ],
   "source": [
    "fruits[fruits.str.contains('berry')]"
   ]
  },
  {
   "cell_type": "markdown",
   "id": "ebb6e45d-85e8-46ce-93b3-4a9f461391b3",
   "metadata": {},
   "source": [
    "8. Write the code to get only the string values containing the substring \"apple\"."
   ]
  },
  {
   "cell_type": "code",
   "execution_count": 310,
   "id": "3e7bda67-2f9c-4d87-b1d8-3dde143c694f",
   "metadata": {},
   "outputs": [
    {
     "data": {
      "text/plain": [
       "3           Pineapple\n",
       "4          Gala apple\n",
       "5    Honeycrisp apple\n",
       "dtype: object"
      ]
     },
     "execution_count": 310,
     "metadata": {},
     "output_type": "execute_result"
    }
   ],
   "source": [
    "fruits[fruits.str.contains('apple')]"
   ]
  },
  {
   "cell_type": "markdown",
   "id": "4c040616-47e4-40fb-88ca-14da2d647d19",
   "metadata": {},
   "source": [
    "9. Which string value contains the most vowels?"
   ]
  },
  {
   "cell_type": "code",
   "execution_count": 311,
   "id": "3d7290f6-e552-4963-afa3-cba1c04bf731",
   "metadata": {},
   "outputs": [
    {
     "data": {
      "text/plain": [
       "5    Honeycrisp apple\n",
       "dtype: object"
      ]
     },
     "execution_count": 311,
     "metadata": {},
     "output_type": "execute_result"
    }
   ],
   "source": [
    "fruits[num_vowels.index[num_vowels == max(num_vowels)]]"
   ]
  },
  {
   "cell_type": "markdown",
   "id": "af1a9fcc-2644-453a-b7e8-faab5745f0c2",
   "metadata": {},
   "source": [
    "Use pandas to create a Series named letters from the following string:"
   ]
  },
  {
   "cell_type": "code",
   "execution_count": 312,
   "id": "25736db4-f0de-4535-81b0-35cb2cf95770",
   "metadata": {},
   "outputs": [],
   "source": [
    "letters = pd.Series(list('hnvidduckkqxwymbimkccexbkmqygkxoyndmcxnwqarhyffsjpsrabtjzsypmzadfavyrnndndvswreauxovncxtwzpwejilzjrmmbbgbyxvjtewqthafnbkqplarokkyydtubbmnexoypulzwfhqvckdpqtpoppzqrmcvhhpwgjwupgzhiofohawytlsiyecuproguy'))"
   ]
  },
  {
   "cell_type": "markdown",
   "id": "25899532-d7c1-45a3-bd9e-d6fdcbd02d8b",
   "metadata": {},
   "source": [
    "1. Which letter occurs the most frequently in the letters Series? "
   ]
  },
  {
   "cell_type": "code",
   "execution_count": 313,
   "id": "88fc7418-e388-484d-a9d4-27e088fae454",
   "metadata": {},
   "outputs": [],
   "source": [
    "letter_counts = (letters.value_counts())"
   ]
  },
  {
   "cell_type": "code",
   "execution_count": 314,
   "id": "8b4a885b-b577-44ed-8d2a-54f3e7973c6a",
   "metadata": {},
   "outputs": [
    {
     "data": {
      "text/plain": [
       "array(['y'], dtype=object)"
      ]
     },
     "execution_count": 314,
     "metadata": {},
     "output_type": "execute_result"
    }
   ],
   "source": [
    "letter_counts.index[letter_counts == max(letter_counts)].values"
   ]
  },
  {
   "cell_type": "markdown",
   "id": "0d37452f-f510-46d5-bd59-b91e028913dc",
   "metadata": {},
   "source": [
    "2. Which letter occurs the least frequently?\n",
    "    "
   ]
  },
  {
   "cell_type": "code",
   "execution_count": 315,
   "id": "dc339a4e-44ae-4e10-bf48-115a35bf5133",
   "metadata": {},
   "outputs": [
    {
     "data": {
      "text/plain": [
       "array(['l'], dtype=object)"
      ]
     },
     "execution_count": 315,
     "metadata": {},
     "output_type": "execute_result"
    }
   ],
   "source": [
    "letter_counts.index[letter_counts == min(letter_counts)].values"
   ]
  },
  {
   "cell_type": "markdown",
   "id": "d83f783f-a6ce-45e7-b75a-dc7c3bfb8478",
   "metadata": {},
   "source": [
    "3. How many vowels are in the Series?\n",
    "    "
   ]
  },
  {
   "cell_type": "code",
   "execution_count": 341,
   "id": "f195099f-82b0-48f3-a8f5-6f53f629d740",
   "metadata": {},
   "outputs": [
    {
     "data": {
      "text/plain": [
       "34"
      ]
     },
     "execution_count": 341,
     "metadata": {},
     "output_type": "execute_result"
    }
   ],
   "source": [
    "sum(letter_counts[letter_counts.index.isin(['a','e','i','o','u'])])"
   ]
  },
  {
   "cell_type": "markdown",
   "id": "a1922248-70e6-4a13-b965-0eeb6dbbbada",
   "metadata": {},
   "source": [
    "4. How many consonants are in the Series?\n",
    "    "
   ]
  },
  {
   "cell_type": "code",
   "execution_count": 317,
   "id": "2a708c79-f49c-4bf0-9a2f-e05a0870a37d",
   "metadata": {},
   "outputs": [
    {
     "data": {
      "text/plain": [
       "166"
      ]
     },
     "execution_count": 317,
     "metadata": {},
     "output_type": "execute_result"
    }
   ],
   "source": [
    "sum(letter_counts[~letter_counts.index.isin(['a','e','i','o','u'])])"
   ]
  },
  {
   "cell_type": "markdown",
   "id": "26ad6d04-30aa-4847-8342-093a33314feb",
   "metadata": {},
   "source": [
    "5. Create a Series that has all of the same letters but uppercased.\n",
    "    "
   ]
  },
  {
   "cell_type": "code",
   "execution_count": 318,
   "id": "4649ecf1-4476-411a-96bb-7631f4032484",
   "metadata": {},
   "outputs": [],
   "source": [
    "letters_upper = letters.str.upper()"
   ]
  },
  {
   "cell_type": "markdown",
   "id": "3e569924-d0f8-405c-9fe7-2c3d10848879",
   "metadata": {},
   "source": [
    "6. Create a bar plot of the frequencies of the 6 most commonly occuring\n",
    "      letters."
   ]
  },
  {
   "cell_type": "code",
   "execution_count": 344,
   "id": "609f4a0b-6b70-4a88-ae3f-5e054967d86e",
   "metadata": {},
   "outputs": [
    {
     "data": {
      "text/plain": [
       "<AxesSubplot:title={'center':'6 Most Commonly Occuring Letters in String'}, xlabel='Letter', ylabel='Num Occurences'>"
      ]
     },
     "execution_count": 344,
     "metadata": {},
     "output_type": "execute_result"
    },
    {
     "data": {
      "image/png": "[encoded data removed]",
      "text/plain": [
       "<Figure size 432x288 with 1 Axes>"
      ]
     },
     "metadata": {
      "needs_background": "light"
     },
     "output_type": "display_data"
    }
   ],
   "source": [
    "letters.value_counts().nlargest(6,keep=\"all\").plot.bar(title = \"6 Most Commonly Occuring Letters in String\",\n",
    "                                   xlabel = \"Letter\", ylabel = \"Num Occurences\")"
   ]
  },
  {
   "cell_type": "markdown",
   "id": "c5e99aff-3a97-4c1e-9238-62a54eb97ebd",
   "metadata": {},
   "source": [
    "Use pandas to create a Series named numbers from the following list:"
   ]
  },
  {
   "cell_type": "code",
   "execution_count": 320,
   "id": "2d000625-cad9-4bd3-9399-a830a5613036",
   "metadata": {},
   "outputs": [],
   "source": [
    "numbers = pd.Series(['$796,459.41', '$278.60', '$482,571.67', '$4,503,915.98', '$2,121,418.3', '$1,260,813.3', '$87,231.01', '$1,509,175.45', '$4,138,548.00', '$2,848,913.80', '$594,715.39', '$4,789,988.17', '$4,513,644.5', '$3,191,059.97', '$1,758,712.24', '$4,338,283.54', '$4,738,303.38', '$2,791,759.67', '$769,681.94', '$452,650.23'])"
   ]
  },
  {
   "cell_type": "markdown",
   "id": "ff234477-ad66-460a-a3d1-0c0d7ccd02cf",
   "metadata": {},
   "source": [
    "7. What is the data type of the numbers Series?"
   ]
  },
  {
   "cell_type": "code",
   "execution_count": 321,
   "id": "0d60c815-39a3-4b81-b283-c1bac92155b5",
   "metadata": {},
   "outputs": [
    {
     "data": {
      "text/plain": [
       "dtype('O')"
      ]
     },
     "execution_count": 321,
     "metadata": {},
     "output_type": "execute_result"
    }
   ],
   "source": [
    "numbers.dtype"
   ]
  },
  {
   "cell_type": "markdown",
   "id": "5f8c80db-51c1-4d07-9f94-a4cf4e0e5104",
   "metadata": {},
   "source": [
    "8. How many elements are in the number Series?\n",
    "    "
   ]
  },
  {
   "cell_type": "code",
   "execution_count": 322,
   "id": "950670fb-49f5-4c57-ae4d-bb072f5d5386",
   "metadata": {},
   "outputs": [
    {
     "data": {
      "text/plain": [
       "20"
      ]
     },
     "execution_count": 322,
     "metadata": {},
     "output_type": "execute_result"
    }
   ],
   "source": [
    "len(numbers)"
   ]
  },
  {
   "cell_type": "markdown",
   "id": "a379edbd-0fde-4734-9923-7cbbcfc634a9",
   "metadata": {},
   "source": [
    "9. Perform the necessary manipulations by accessing Series attributes and methods to convert the numbers Series to a numeric data type.\n",
    "    "
   ]
  },
  {
   "cell_type": "code",
   "execution_count": 323,
   "id": "ffac7f28-4513-4ce6-9fd0-321dc61469e1",
   "metadata": {},
   "outputs": [
    {
     "name": "stderr",
     "output_type": "stream",
     "text": [
      "/var/folders/tt/99v8dp0d60sfw82fs51dhr4m0000gn/T/ipykernel_1060/1324107255.py:1: FutureWarning: The default value of regex will change from True to False in a future version. In addition, single character regular expressions will *not* be treated as literal strings when regex=True.\n",
      "  numbers = numbers.str.replace('$','').str.replace(',','').apply(lambda n: float(n))\n"
     ]
    }
   ],
   "source": [
    "numbers = numbers.str.replace('$','').str.replace(',','').apply(lambda n: float(n))"
   ]
  },
  {
   "cell_type": "markdown",
   "id": "ceb670ad-ccf5-4fdb-9db3-f1052f59468f",
   "metadata": {},
   "source": [
    "10. Run the code to discover the maximum value from the Series."
   ]
  },
  {
   "cell_type": "code",
   "execution_count": 324,
   "id": "905c9ae4-f3d7-4098-9f8b-e83ab3cd7b2b",
   "metadata": {},
   "outputs": [
    {
     "data": {
      "text/plain": [
       "4789988.17"
      ]
     },
     "execution_count": 324,
     "metadata": {},
     "output_type": "execute_result"
    }
   ],
   "source": [
    "max(numbers)"
   ]
  },
  {
   "cell_type": "markdown",
   "id": "b164d272-d8c3-468a-82e7-1af6255214b9",
   "metadata": {},
   "source": [
    "11. Run the code to discover the minimum value from the Series."
   ]
  },
  {
   "cell_type": "code",
   "execution_count": 325,
   "id": "c307509f-a92c-4c65-b0f8-a78c3641b240",
   "metadata": {},
   "outputs": [
    {
     "data": {
      "text/plain": [
       "278.6"
      ]
     },
     "execution_count": 325,
     "metadata": {},
     "output_type": "execute_result"
    }
   ],
   "source": [
    "min(numbers)"
   ]
  },
  {
   "cell_type": "markdown",
   "id": "3b5e5ea8-486e-45cf-9b2d-6ca69349f0be",
   "metadata": {},
   "source": [
    "12. What is the range of the values in the Series?\n",
    "    "
   ]
  },
  {
   "cell_type": "code",
   "execution_count": 345,
   "id": "c38a4cdf-5164-4acf-8cb1-09019bcab7ee",
   "metadata": {},
   "outputs": [
    {
     "name": "stdout",
     "output_type": "stream",
     "text": [
      "The range of values is from 278.6 to 4789988.17 so 4789709.57\n"
     ]
    }
   ],
   "source": [
    "print(f\"The range of values is from {min(numbers)} to {max(numbers)} so {max(numbers)-min(numbers)}\")"
   ]
  },
  {
   "cell_type": "markdown",
   "id": "1ad1c93f-f43c-41f5-b9b5-683628c5fcbc",
   "metadata": {},
   "source": [
    "13. Bin the data into 4 equally sized intervals or bins and output how many values fall into each bin.\n",
    "    "
   ]
  },
  {
   "cell_type": "code",
   "execution_count": 327,
   "id": "58d9d9a6-8345-4637-85db-db2e7be934c1",
   "metadata": {},
   "outputs": [
    {
     "data": {
      "text/plain": [
       "(-4511.11, 1197705.993]       7\n",
       "(3592560.778, 4789988.17]     6\n",
       "(1197705.993, 2395133.385]    4\n",
       "(2395133.385, 3592560.778]    3\n",
       "dtype: int64"
      ]
     },
     "execution_count": 327,
     "metadata": {},
     "output_type": "execute_result"
    }
   ],
   "source": [
    "pd.cut(numbers, 4).value_counts()"
   ]
  },
  {
   "cell_type": "markdown",
   "id": "3d677c5a-1445-43c1-851b-f2bbfba6e91c",
   "metadata": {},
   "source": [
    "14. Plot the binned data in a meaningful way. Be sure to include a title and axis labels."
   ]
  },
  {
   "cell_type": "code",
   "execution_count": 328,
   "id": "35defaf8-1312-446c-923c-913951addf6f",
   "metadata": {},
   "outputs": [
    {
     "data": {
      "text/plain": [
       "<AxesSubplot:title={'center':'Binned numbers data'}, xlabel='Bins', ylabel='Frequency'>"
      ]
     },
     "execution_count": 328,
     "metadata": {},
     "output_type": "execute_result"
    },
    {
     "data": {
      "image/png": "[encoded data removed]",
      "text/plain": [
       "<Figure size 432x288 with 1 Axes>"
      ]
     },
     "metadata": {
      "needs_background": "light"
     },
     "output_type": "display_data"
    }
   ],
   "source": [
    "numbers.value_counts(bins=4).plot.bar(title = \"Binned numbers data\", xlabel = \"Bins\", ylabel = \"Frequency\", rot = 45) "
   ]
  },
  {
   "cell_type": "markdown",
   "id": "292b1e00-45d5-4491-9f21-c682c203c5d0",
   "metadata": {},
   "source": [
    "Use pandas to create a Series named exam_scores from the following list:"
   ]
  },
  {
   "cell_type": "code",
   "execution_count": 329,
   "id": "c9439ad4-277f-404d-a209-4ee3ce4ec87f",
   "metadata": {},
   "outputs": [],
   "source": [
    "exam_scores = pd.Series([60, 86, 75, 62, 93, 71, 60, 83, 95, 78, 65, 72, 69, 81, 96, 80, 85, 92, 82, 78])\n",
    "        "
   ]
  },
  {
   "cell_type": "markdown",
   "id": "95071cc7-3f3f-4303-b7db-e389abe2a864",
   "metadata": {},
   "source": [
    "15. How many elements are in the exam_scores Series?"
   ]
  },
  {
   "cell_type": "code",
   "execution_count": 330,
   "id": "3242aaef-b18f-4512-a42c-68eb54ad42db",
   "metadata": {},
   "outputs": [
    {
     "data": {
      "text/plain": [
       "20"
      ]
     },
     "execution_count": 330,
     "metadata": {},
     "output_type": "execute_result"
    }
   ],
   "source": [
    "len(exam_scores)"
   ]
  },
  {
   "cell_type": "markdown",
   "id": "265db79d-b86f-4342-a299-4c32e0996f8a",
   "metadata": {},
   "source": [
    "16. Run the code to discover the minimum, the maximum, the mean, and the median scores for the exam_scores Series.\n",
    "    "
   ]
  },
  {
   "cell_type": "code",
   "execution_count": 331,
   "id": "af3717ac-8d12-4318-bd8c-02ee9478167e",
   "metadata": {},
   "outputs": [
    {
     "name": "stdout",
     "output_type": "stream",
     "text": [
      "Relevant statistics:\n",
      "count    20.000000\n",
      "mean     78.150000\n",
      "std      11.352139\n",
      "min      60.000000\n",
      "25%      70.500000\n",
      "50%      79.000000\n",
      "75%      85.250000\n",
      "max      96.000000\n",
      "dtype: float64 \n",
      "\n",
      "median   79.0\n"
     ]
    }
   ],
   "source": [
    "print(f\"Relevant statistics:\\n{exam_scores.describe()} \\n\\nmedian   {exam_scores.median()}\")"
   ]
  },
  {
   "cell_type": "markdown",
   "id": "36081a7e-d2ef-48e0-9ce4-db26a99a6579",
   "metadata": {},
   "source": [
    "17. Plot the Series in a meaningful way and make sure your chart has a title and axis labels."
   ]
  },
  {
   "cell_type": "code",
   "execution_count": 347,
   "id": "506c8c07-5c7c-4a7f-86b0-fbb4013a7c19",
   "metadata": {},
   "outputs": [
    {
     "data": {
      "text/plain": [
       "<AxesSubplot:title={'center':'histogram of grades'}, ylabel='Frequency'>"
      ]
     },
     "execution_count": 347,
     "metadata": {},
     "output_type": "execute_result"
    },
    {
     "data": {
      "image/png": "[encoded data removed]",
      "text/plain": [
       "<Figure size 432x288 with 1 Axes>"
      ]
     },
     "metadata": {
      "needs_background": "light"
     },
     "output_type": "display_data"
    }
   ],
   "source": [
    "exam_scores.plot.hist(title = \"histogram of grades\", xlabel = \"Grade\")"
   ]
  },
  {
   "cell_type": "code",
   "execution_count": 332,
   "id": "71f53a2e-0c33-4461-94c3-d68f87056c69",
   "metadata": {},
   "outputs": [
    {
     "data": {
      "text/plain": [
       "<AxesSubplot:title={'center':'Exam scores'}, xlabel='Letter grade', ylabel='Number of scores in category'>"
      ]
     },
     "execution_count": 332,
     "metadata": {},
     "output_type": "execute_result"
    },
    {
     "data": {
      "image/png": "[encoded data removed]",
      "text/plain": [
       "<Figure size 432x288 with 1 Axes>"
      ]
     },
     "metadata": {
      "needs_background": "light"
     },
     "output_type": "display_data"
    }
   ],
   "source": [
    "binned_scores = pd.cut(exam_scores, [0,60,70,80,90,100], labels =[\"F\",\"D\",\"C\",\"B\",\"A\"])\n",
    "binned_scores.value_counts().reindex(binned_scores.cat.categories).plot.bar(title = \"Exam scores\", xlabel = \"Letter grade\", ylabel = \"Number of scores in category\") "
   ]
  },
  {
   "cell_type": "markdown",
   "id": "f87efbeb-3e99-4faf-8a96-4ae109812329",
   "metadata": {},
   "source": [
    "18. Write the code necessary to implement a curve for your exam_grades Series and save this as curved_grades. Add the necessary points to the highest grade to make it 100, and add the same number of points to every other score in the Series as well.\n",
    "    "
   ]
  },
  {
   "cell_type": "code",
   "execution_count": 333,
   "id": "8e473199-afb4-4aaf-9cde-a625e289411b",
   "metadata": {},
   "outputs": [],
   "source": [
    "curve_amount = 100-max(exam_scores)\n",
    "curved_grades = exam_scores + curve_amount\n"
   ]
  },
  {
   "cell_type": "markdown",
   "id": "4bc71d97-4cd0-4f47-8a9a-649f61d933db",
   "metadata": {},
   "source": [
    "19. Use a method to convert each of the numeric values in the curved_grades Series into a categorical value of letter grades. For example, 86 should be a 'B' and 95 should be an 'A'. Save this as a Series named letter_grades."
   ]
  },
  {
   "cell_type": "code",
   "execution_count": 353,
   "id": "35b2050b-816c-4178-b2f4-2b8d740e3e66",
   "metadata": {},
   "outputs": [],
   "source": [
    "curved_letter_grades = pd.cut(curved_grades, [0,60,70,80,90,100], labels =[\"F\",\"D\",\"C\",\"B\",\"A\"])"
   ]
  },
  {
   "cell_type": "markdown",
   "id": "cf6a291c-e7a7-45b7-8df1-17b608b3e59b",
   "metadata": {},
   "source": [
    "20. Plot your new categorical letter_grades Series in a meaninful way and include a title and axis labels."
   ]
  },
  {
   "cell_type": "code",
   "execution_count": 354,
   "id": "e46bdcce-e7c5-41ee-8f58-8b92541ecd4d",
   "metadata": {},
   "outputs": [
    {
     "data": {
      "text/plain": [
       "<AxesSubplot:title={'center':'Curved exam scores'}, xlabel='Letter grade', ylabel='Number of scores in category'>"
      ]
     },
     "execution_count": 354,
     "metadata": {},
     "output_type": "execute_result"
    },
    {
     "data": {
      "image/png": "[encoded data removed]",
      "text/plain": [
       "<Figure size 432x288 with 1 Axes>"
      ]
     },
     "metadata": {
      "needs_background": "light"
     },
     "output_type": "display_data"
    }
   ],
   "source": [
    "curved_letter_grades.value_counts().reindex(binned_scores.cat.categories).plot.bar(title = \"Curved exam scores\", xlabel = \"Letter grade\", ylabel = \"Number of scores in category\") \n"
   ]
  },
  {
   "cell_type": "markdown",
   "id": "f069f199-e5db-4ce0-a9a7-bbce5445cf01",
   "metadata": {},
   "source": [
    "## More Practice\n",
    "\n",
    "Revisit the exercises from [https://gist.github.com/ryanorsinger/f7d7c1dd6a328730c04f3dc5c5c69f3a](https://gist.github.com/ryanorsinger/f7d7c1dd6a328730c04f3dc5c5c69f3a). \n",
    "\n",
    "After you complete each set of Series exercises, use any extra time you have to pursue the challenge below. You can work on these in the same notebook or file as the Series exercises or create a new practice notebook you can work in a little every day to keep your python and pandas skills sharp by trying to solve problems in multiple ways. *These are not a part of the Series exercises grade, so don't worry if it takes you days or weeks to meet the challenge.*\n",
    "\n",
    "**Challenge yourself to be able to...**\n",
    "\n",
    "- solve each using vanilla python.\n",
    "    \n",
    "- solve each using list comprehensions.\n",
    "    \n",
    "- solve each by using a pandas Series for the data structure instead of lists and using vectorized operations instead of loops and list comprehensions."
   ]
  }
 ],
 "metadata": {
  "kernelspec": {
   "display_name": "Python 3.9.7 64-bit ('base': conda)",
   "language": "python",
   "name": "python397jvsc74a57bd038cca0c38332a56087b24af0bc80247f4fced29cb4f7f437d91dc159adec9c4e"
  },
  "language_info": {
   "codemirror_mode": {
    "name": "ipython",
    "version": 3
   },
   "file_extension": ".py",
   "mimetype": "text/x-python",
   "name": "python",
   "nbconvert_exporter": "python",
   "pygments_lexer": "ipython3",
   "version": "3.9.7"
  }
 },
 "nbformat": 4,
 "nbformat_minor": 5
}
