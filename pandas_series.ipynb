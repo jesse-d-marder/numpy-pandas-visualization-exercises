{
 "cells": [
  {
   "cell_type": "markdown",
   "id": "98b30d15-8f6a-4038-aeef-bbe578eb42ea",
   "metadata": {},
   "source": [
    "## Exercises Part I\n",
    "\n",
    "Make a file named `pandas_series.py` or `pandas_series.ipynb` for the following exercises.\n",
    "\n",
    "Use pandas to create a Series named fruits from the following list:\n",
    "\n",
    "        [\"kiwi\", \"mango\", \"strawberry\", \"pineapple\", \"gala apple\", \"honeycrisp apple\", \"tomato\", \"watermelon\", \"honeydew\", \"kiwi\", \"kiwi\", \"kiwi\", \"mango\", \"blueberry\", \"blackberry\", \"gooseberry\", \"papaya\"]\n",
    "        \n",
    "Use Series attributes and methods to explore your fruits Series."
   ]
  },
  {
   "cell_type": "code",
   "execution_count": null,
   "id": "5fd38a71-b04b-43f4-944b-e6c033316d5b",
   "metadata": {},
   "outputs": [],
   "source": [
    "fruits = [\"kiwi\", \"mango\", \"strawberry\", \"pineapple\", \"gala apple\", \"honeycrisp apple\", \"tomato\", \"watermelon\", \"honeydew\", \"kiwi\", \"kiwi\", \"kiwi\", \"mango\", \"blueberry\", \"blackberry\", \"gooseberry\", \"papaya\"]"
   ]
  },
  {
   "cell_type": "code",
   "execution_count": null,
   "id": "5b957adc-8b0c-4d57-be24-7fbeb91ce2d3",
   "metadata": {},
   "outputs": [],
   "source": [
    "fruits = pd.Series(fruits)"
   ]
  },
  {
   "cell_type": "code",
   "execution_count": null,
   "id": "1ad7fbe3-bd60-4e1f-9531-852bc6a32806",
   "metadata": {},
   "outputs": [],
   "source": [
    "type(fruits)"
   ]
  },
  {
   "cell_type": "markdown",
   "id": "8bb26db3-d966-4517-8da1-cd1670589be3",
   "metadata": {},
   "source": [
    "1. Determine the number of elements in fruits.\n",
    "    "
   ]
  },
  {
   "cell_type": "code",
   "execution_count": null,
   "id": "7b428dc2-026f-43e8-a547-1a8573c4c8a7",
   "metadata": {},
   "outputs": [],
   "source": []
  },
  {
   "cell_type": "code",
   "execution_count": null,
   "id": "3b3925c8-7b4f-4543-bf18-7bf35a186f32",
   "metadata": {},
   "outputs": [],
   "source": []
  },
  {
   "cell_type": "markdown",
   "id": "b92680fd-dc25-4277-ac59-e12096a1fb22",
   "metadata": {},
   "source": [
    "2. Output only the index from fruits.\n",
    "    "
   ]
  },
  {
   "cell_type": "code",
   "execution_count": null,
   "id": "651a014c-304d-4cfd-9811-30e94a813448",
   "metadata": {},
   "outputs": [],
   "source": []
  },
  {
   "cell_type": "markdown",
   "id": "837e21ef-b136-4dc0-85c8-b512d9e72538",
   "metadata": {},
   "source": [
    "3. Output only the values from fruits.\n",
    "    "
   ]
  },
  {
   "cell_type": "code",
   "execution_count": null,
   "id": "def0ecc3-5eaf-474d-bb5a-ee882a1181fc",
   "metadata": {},
   "outputs": [],
   "source": []
  },
  {
   "cell_type": "markdown",
   "id": "9c06595f-c5b8-4339-a7c1-4ddd60c6aecf",
   "metadata": {},
   "source": [
    "4. Confirm the data type of the values in fruits.\n",
    "    "
   ]
  },
  {
   "cell_type": "code",
   "execution_count": null,
   "id": "2ccf3ff5-92bc-4ff6-9d5c-7a891ebe2350",
   "metadata": {},
   "outputs": [],
   "source": []
  },
  {
   "cell_type": "markdown",
   "id": "07f7bd62-88ed-40b4-849f-395a69703a14",
   "metadata": {},
   "source": [
    "5. Output only the first five values from fruits. Output the last three values. Output two random values from fruits.\n",
    "    "
   ]
  },
  {
   "cell_type": "code",
   "execution_count": null,
   "id": "26f5a6f6-d637-46dd-ae06-b490d3dc7305",
   "metadata": {},
   "outputs": [],
   "source": []
  },
  {
   "cell_type": "code",
   "execution_count": null,
   "id": "b4f2d0eb-bf88-4b1e-ade7-d74fe56986dc",
   "metadata": {},
   "outputs": [],
   "source": []
  },
  {
   "cell_type": "code",
   "execution_count": null,
   "id": "11fd5b76-e624-4466-9081-0b779cbbca83",
   "metadata": {},
   "outputs": [],
   "source": []
  },
  {
   "cell_type": "markdown",
   "id": "61a2ee29-0d90-49fe-b552-1d09ce993b2a",
   "metadata": {},
   "source": [
    "6. Run the `.describe()` on fruits to see what information it returns when called on a  Series with string values."
   ]
  },
  {
   "cell_type": "code",
   "execution_count": null,
   "id": "138cfabf-7b51-4647-9674-9d5fe0fe9a4b",
   "metadata": {},
   "outputs": [],
   "source": []
  },
  {
   "cell_type": "markdown",
   "id": "de57dd8d-0ac7-48ea-bf64-750867967473",
   "metadata": {},
   "source": [
    "7. Run the code necessary to produce only the unique string values from fruits."
   ]
  },
  {
   "cell_type": "code",
   "execution_count": null,
   "id": "0dd3ff38-6041-4dae-a6cc-5f9fb3e4fe06",
   "metadata": {},
   "outputs": [],
   "source": []
  },
  {
   "cell_type": "code",
   "execution_count": null,
   "id": "cd7eb5a2-1fac-4345-ab02-3f932419df47",
   "metadata": {},
   "outputs": [],
   "source": []
  },
  {
   "cell_type": "markdown",
   "id": "212e0429-af28-4b69-967a-203f027f8df1",
   "metadata": {},
   "source": [
    "8. Determine how many times each unique string value occurs in fruits."
   ]
  },
  {
   "cell_type": "code",
   "execution_count": null,
   "id": "e2ada281-b77d-48be-bc0f-a517c9658d93",
   "metadata": {},
   "outputs": [],
   "source": []
  },
  {
   "cell_type": "markdown",
   "id": "992b01e7-b7e1-4875-ab60-728d13b8196c",
   "metadata": {},
   "source": [
    "9. Determine the string value that occurs most frequently in fruits."
   ]
  },
  {
   "cell_type": "code",
   "execution_count": null,
   "id": "8683893b-0489-4dc5-a437-ea52af6abc59",
   "metadata": {},
   "outputs": [],
   "source": []
  },
  {
   "cell_type": "code",
   "execution_count": null,
   "id": "a53fb63e-8290-4d00-bf91-f0b966106a18",
   "metadata": {},
   "outputs": [],
   "source": []
  },
  {
   "cell_type": "code",
   "execution_count": null,
   "id": "c615cf00-8cb1-4f71-b820-fff4988021ed",
   "metadata": {},
   "outputs": [],
   "source": []
  },
  {
   "cell_type": "markdown",
   "id": "4c919945-437d-43c1-a0cd-43c3c585edc9",
   "metadata": {},
   "source": [
    "10. Determine the string value that occurs least frequently in fruits."
   ]
  },
  {
   "cell_type": "code",
   "execution_count": null,
   "id": "1438aaeb-bb76-4639-a8fa-fd717cd9f38a",
   "metadata": {},
   "outputs": [],
   "source": []
  },
  {
   "cell_type": "markdown",
   "id": "2a08c7fb-471f-434c-bde9-badf7a8a29ba",
   "metadata": {},
   "source": [
    "___"
   ]
  },
  {
   "cell_type": "markdown",
   "id": "cc8124d2-2731-45d7-b1d6-66e3d978876d",
   "metadata": {},
   "source": [
    "## Indexing and Subsetting\n",
    "\n",
    "- This is where the pandas index shines; we can select subsets of our data using index labels, index position, or boolean sequences (list, array, Series).\n",
    "\n",
    "\n",
    "- I can also pass a sequence of boolean values to the indexing operator, `[]`; that sequence could be a list or array, but it can also be another pandas Series **if the index of the boolean Series matches the original Series**."
   ]
  },
  {
   "cell_type": "code",
   "execution_count": null,
   "id": "4a3d0498-ff63-421d-bc47-e6255a9d1fe2",
   "metadata": {},
   "outputs": [],
   "source": [
    "numbers_series"
   ]
  },
  {
   "cell_type": "code",
   "execution_count": null,
   "id": "dd30bea7-5f4b-4ee8-8856-608a95fa8ccf",
   "metadata": {},
   "outputs": [],
   "source": [
    "# I can see that my condition is being met by the values at index 0 and index 1.\n",
    "\n",
    "bools = numbers_series > 40\n",
    "bools"
   ]
  },
  {
   "cell_type": "code",
   "execution_count": null,
   "id": "a54f76d8-42cd-45bd-aa2b-8f34640de4f5",
   "metadata": {},
   "outputs": [],
   "source": [
    "# I pass my boolean mask to the original Series to return the values that meet the condition.\n",
    "\n",
    "numbers_series[bools]"
   ]
  },
  {
   "cell_type": "code",
   "execution_count": null,
   "id": "1e35869c-a09d-4e5e-bae6-5450086283b6",
   "metadata": {},
   "outputs": [],
   "source": [
    "# I can simply pass my conditional expression into the indexing operator, too.\n",
    "\n",
    "numbers_series[numbers_series > 40]"
   ]
  },
  {
   "cell_type": "markdown",
   "id": "cbfed176-7980-44fe-99c5-28b3e36a8e9d",
   "metadata": {},
   "source": [
    "## More Series Attributes"
   ]
  },
  {
   "cell_type": "markdown",
   "id": "eb29163a-81b9-4189-8f62-7b52ab9a5b32",
   "metadata": {},
   "source": [
    "### `.str`\n",
    "\n",
    "In addition to vectorized arithmetic operations, pandas also provides us with a way to vectorize string manipulation. Once we access the `.str` attribute, we can apply a string method to each string value in a Series. *Performing string manipulation like this does not mutate my original Series; I have to assign my manipulation to a variable if I want to keep it.*\n",
    "\n",
    "For example, we can call the `.lower` method, which will convert each string value in the string_series to lowercase."
   ]
  },
  {
   "cell_type": "code",
   "execution_count": null,
   "id": "624b9db7-8181-4070-92be-2ad64bc64897",
   "metadata": {},
   "outputs": [],
   "source": [
    "string_series = pd.Series(['Hello', 'CodeuP', 'StUDenTs'])\n",
    "string_series"
   ]
  },
  {
   "cell_type": "code",
   "execution_count": null,
   "id": "4917ad60-8bf0-4796-9e84-7c48c549ce85",
   "metadata": {},
   "outputs": [],
   "source": [
    "string_series.str.lower()"
   ]
  },
  {
   "cell_type": "code",
   "execution_count": null,
   "id": "57436524-98d3-49cf-9527-9802314b3ca7",
   "metadata": {},
   "outputs": [],
   "source": [
    "string_series.str.replace('e', '_')"
   ]
  },
  {
   "cell_type": "code",
   "execution_count": null,
   "id": "b375bb9f-c200-463a-8f46-5b062156f55e",
   "metadata": {},
   "outputs": [],
   "source": [
    "string_series"
   ]
  },
  {
   "cell_type": "code",
   "execution_count": null,
   "id": "be3eb4e1-0e18-46da-8de1-7dd0fe6ddbf9",
   "metadata": {},
   "outputs": [],
   "source": [
    "# Since each method returns a Series, I can use method chaining like this.\n",
    "\n",
    "string_series.str.lower().str.replace('e', '_')"
   ]
  },
  {
   "cell_type": "code",
   "execution_count": null,
   "id": "fa4e087e-ea5f-4b7b-abf2-41d78111e588",
   "metadata": {},
   "outputs": [],
   "source": [
    "string_series.str.lower().str.startswith('h')"
   ]
  },
  {
   "cell_type": "code",
   "execution_count": null,
   "id": "6471e3de-19b4-401e-97fd-833de6341615",
   "metadata": {},
   "outputs": [],
   "source": [
    "# I can even use method chaining and indexing!\n",
    "\n",
    "string_series[string_series.str.lower().str.startswith('h')]"
   ]
  },
  {
   "cell_type": "code",
   "execution_count": null,
   "id": "77b4fe49-3001-47e2-a507-6c79ba878d44",
   "metadata": {},
   "outputs": [],
   "source": [
    "# Notice my original string_series is not mutated. \n",
    "\n",
    "string_series"
   ]
  },
  {
   "cell_type": "markdown",
   "id": "ffff9c3b-e870-443c-a342-8dcf6fe2a471",
   "metadata": {},
   "source": [
    "## More Series Methods"
   ]
  },
  {
   "cell_type": "markdown",
   "id": "41ed6942-7712-4814-87f3-9c926d35be37",
   "metadata": {},
   "source": [
    "### `.any`, `.all`\n",
    "\n",
    "We can use the `.any` method to check if any value in the series is `True`, and `.all`, to check if every value in a Series is `True`. Both methods return a boolean value denoting whether the condition is met.\n",
    "\n",
    "For example, we could check to see if there are any negative values in a Series like this:"
   ]
  },
  {
   "cell_type": "code",
   "execution_count": null,
   "id": "261f854a-3b41-48fb-b260-3b48b46357ee",
   "metadata": {},
   "outputs": [],
   "source": [
    "numbers_series < 0"
   ]
  },
  {
   "cell_type": "code",
   "execution_count": null,
   "id": "aaaafadf-cd9f-46ef-801a-007269574bab",
   "metadata": {},
   "outputs": [],
   "source": [
    "(numbers_series < 0).any()"
   ]
  },
  {
   "cell_type": "code",
   "execution_count": null,
   "id": "3d7b8f07-3491-4bf3-a818-f15b862e2e28",
   "metadata": {},
   "outputs": [],
   "source": [
    "(numbers_series < 0).all()"
   ]
  },
  {
   "cell_type": "markdown",
   "id": "dc1cc400-2b61-44dc-9b1b-051fc628d93b",
   "metadata": {},
   "source": [
    "We could check if all the numbers are positive like this:"
   ]
  },
  {
   "cell_type": "code",
   "execution_count": null,
   "id": "2a6ac7f5-d61b-44ce-a644-6bedbda8a7de",
   "metadata": {},
   "outputs": [],
   "source": [
    "(numbers_series > 0).any()"
   ]
  },
  {
   "cell_type": "code",
   "execution_count": null,
   "id": "f255cce4-c13e-49a9-b857-1dcded8da098",
   "metadata": {},
   "outputs": [],
   "source": [
    "(numbers_series > 0).all()"
   ]
  },
  {
   "cell_type": "code",
   "execution_count": null,
   "id": "61ef14cd-2b41-436f-a80f-ed8c9d291a44",
   "metadata": {},
   "outputs": [],
   "source": [
    "series1.isna().any()"
   ]
  },
  {
   "cell_type": "markdown",
   "id": "5cdec053-8998-4ef7-82c0-03bc764eef74",
   "metadata": {},
   "source": [
    "### `.isin`\n",
    "\n",
    "The `.isin` method can be used to tell whether each element in a Series matches an element in a passed sequence of values. For example, if we have a Series of letters, we could use `.isin` to tell whether each letter is a vowel."
   ]
  },
  {
   "cell_type": "code",
   "execution_count": null,
   "id": "f772d081-7b75-4e47-b646-694d6dcb7fcf",
   "metadata": {},
   "outputs": [],
   "source": [
    "# Create a list of vowels.\n",
    "\n",
    "vowels = list('aeiou')\n",
    "vowels"
   ]
  },
  {
   "cell_type": "code",
   "execution_count": null,
   "id": "40158ec5-24ba-4d26-9e54-cae311330373",
   "metadata": {},
   "outputs": [],
   "source": [
    "# Create a list of letters.\n",
    "\n",
    "letters = list('abcdefghijk')\n",
    "letters"
   ]
  },
  {
   "cell_type": "code",
   "execution_count": null,
   "id": "dc30b655-66dd-4564-a82e-77c74b1b1e45",
   "metadata": {},
   "outputs": [],
   "source": [
    "# Construct a pandas Series from my list of letters.\n",
    "\n",
    "letters_series = pd.Series(letters)\n",
    "letters_series"
   ]
  },
  {
   "cell_type": "code",
   "execution_count": null,
   "id": "89cf8b7d-78e2-44e8-872d-064e8d6bd0b8",
   "metadata": {},
   "outputs": [],
   "source": [
    "# Use .isin to check if each element in letters_series matches an element in my list of vowels.\n",
    "\n",
    "letters_series.isin(vowels)"
   ]
  },
  {
   "cell_type": "code",
   "execution_count": null,
   "id": "202e284b-cf5a-472e-a530-0602c0073f60",
   "metadata": {},
   "outputs": [],
   "source": [
    "# Use my Series of boolean values to return the values that meet my condition.\n",
    "\n",
    "letters_series[letters_series.isin(vowels)]"
   ]
  },
  {
   "cell_type": "markdown",
   "id": "e49d9ca8-8977-4c76-8638-6540813b3133",
   "metadata": {},
   "source": [
    "### `.apply` \n",
    "\n",
    "Sometimes there are more complicated operations that we want to perform, and we need to apply a function to each element in a Series. In this case, we can define a function that handles a single value and use the `.apply` method to apply the function to each element in a Series."
   ]
  },
  {
   "cell_type": "code",
   "execution_count": null,
   "id": "f870102c-a5eb-4147-9d20-f13c3c555933",
   "metadata": {},
   "outputs": [],
   "source": [
    "def even_or_odd(n):\n",
    "    '''\n",
    "    A function that takes a number and returns a string indicating whether the passed number is even or odd.\n",
    "    \n",
    "    >>> even_or_odd(3)\n",
    "    'odd'\n",
    "    >>> even_or_odd(2)\n",
    "    'even'\n",
    "    '''\n",
    "    if n % 2 == 0:\n",
    "        return 'even'\n",
    "    else:\n",
    "        return 'odd'\n",
    "\n",
    "numbers_series.apply(even_or_odd)"
   ]
  },
  {
   "cell_type": "markdown",
   "id": "8dc71bb6-2a9e-4b26-8beb-66dcf453a87e",
   "metadata": {},
   "source": [
    "Here we define a function, `even_or_odd`, then reference that function when we call `.apply`. Notice that when we reference the `even_or_odd` function, we are **not** calling the function, rather, we are passing the `even_or_odd` function itself to the `.apply` method as an argument, which pandas will then call on every element of the Series.\n",
    "\n",
    "It is also very common to see lambda functions used along with `.apply`. We could re-write the above example with a lambda function like so:"
   ]
  },
  {
   "cell_type": "code",
   "execution_count": null,
   "id": "b1ff1404-d35a-4a4f-95e8-1b8ea0275af4",
   "metadata": {},
   "outputs": [],
   "source": [
    "numbers_series.apply(lambda n: 'even' if n % 2 == 0 else 'odd')"
   ]
  },
  {
   "cell_type": "markdown",
   "id": "cf2c9abb-4a2c-4795-8c10-07f4fee44750",
   "metadata": {},
   "source": [
    "## Exercises Part II\n",
    "\n",
    " Explore more attributes and methods while you continue to work with the fruits Series."
   ]
  },
  {
   "cell_type": "markdown",
   "id": "a1e340ff-c573-4ad0-b6c3-959478cb3a6a",
   "metadata": {},
   "source": [
    "1. Capitalize all the string values in fruits."
   ]
  },
  {
   "cell_type": "code",
   "execution_count": null,
   "id": "271f1375-8b42-4945-9437-006264967f22",
   "metadata": {},
   "outputs": [],
   "source": []
  },
  {
   "cell_type": "markdown",
   "id": "95c62c43-1f4e-4c7e-b4e2-8ef2d6625cdb",
   "metadata": {},
   "source": [
    "2. Count the letter \"a\" in all the string values (use string vectorization)."
   ]
  },
  {
   "cell_type": "code",
   "execution_count": null,
   "id": "547af902-e34d-4fbe-97e3-283b41cf6eae",
   "metadata": {},
   "outputs": [],
   "source": []
  },
  {
   "cell_type": "markdown",
   "id": "319b3d3b-f926-4d69-8f45-e5640a62da96",
   "metadata": {},
   "source": [
    "3. Output the number of vowels in each and every string value.\n",
    "    "
   ]
  },
  {
   "cell_type": "code",
   "execution_count": null,
   "id": "ad279d6a-30e6-41ae-a215-27b012e30153",
   "metadata": {},
   "outputs": [],
   "source": []
  },
  {
   "cell_type": "markdown",
   "id": "6fd0d74d-9342-44f4-be50-29a824ab2004",
   "metadata": {},
   "source": [
    "4. Write the code to get the longest string value from fruits."
   ]
  },
  {
   "cell_type": "code",
   "execution_count": null,
   "id": "c4d0da0c-0244-4608-aa23-66e2e48f7e6f",
   "metadata": {},
   "outputs": [],
   "source": []
  },
  {
   "cell_type": "markdown",
   "id": "3df2db58-c23e-4e8d-88d0-0b3d94a76c14",
   "metadata": {},
   "source": [
    "5. Write the code to get the string values with 5 or more letters in the name."
   ]
  },
  {
   "cell_type": "code",
   "execution_count": null,
   "id": "f999320b-d38e-4148-8750-ec1ce0699665",
   "metadata": {},
   "outputs": [],
   "source": []
  },
  {
   "cell_type": "markdown",
   "id": "60ef3b36-932a-4806-85f3-a7d7b9b928b4",
   "metadata": {},
   "source": [
    "6. Use the `.apply` method with a lambda function to find the fruit(s) containing the letter `\"o\"` two or more times."
   ]
  },
  {
   "cell_type": "code",
   "execution_count": null,
   "id": "17fb8c0b-0a67-4b17-8105-72f29db49bcd",
   "metadata": {},
   "outputs": [],
   "source": []
  },
  {
   "cell_type": "markdown",
   "id": "8c939b0a-cb72-41cb-918c-3dced456984d",
   "metadata": {},
   "source": [
    "7. Write the code to get only the string values containing the substring \"berry\"."
   ]
  },
  {
   "cell_type": "code",
   "execution_count": null,
   "id": "82c6335a-c38b-486a-ab5a-4b736b0f7534",
   "metadata": {},
   "outputs": [],
   "source": []
  },
  {
   "cell_type": "markdown",
   "id": "ebb6e45d-85e8-46ce-93b3-4a9f461391b3",
   "metadata": {},
   "source": [
    "8. Write the code to get only the string values containing the substring \"apple\"."
   ]
  },
  {
   "cell_type": "code",
   "execution_count": null,
   "id": "3e7bda67-2f9c-4d87-b1d8-3dde143c694f",
   "metadata": {},
   "outputs": [],
   "source": []
  },
  {
   "cell_type": "markdown",
   "id": "4c040616-47e4-40fb-88ca-14da2d647d19",
   "metadata": {},
   "source": [
    "9. Which string value contains the most vowels?"
   ]
  },
  {
   "cell_type": "code",
   "execution_count": null,
   "id": "3d7290f6-e552-4963-afa3-cba1c04bf731",
   "metadata": {},
   "outputs": [],
   "source": []
  },
  {
   "cell_type": "markdown",
   "id": "82ebaaa5-40a2-4bc2-83eb-701dddff115e",
   "metadata": {},
   "source": [
    "___"
   ]
  },
  {
   "cell_type": "markdown",
   "id": "dc3f4d4e-5128-4bb0-97f6-dd880b62d674",
   "metadata": {},
   "source": [
    "## Binning Data\n",
    "\n",
    "I can bin continuous data to convert it to categorical data. We will look at two different ways to accomplish binning below."
   ]
  },
  {
   "cell_type": "code",
   "execution_count": null,
   "id": "2c61127f-fa91-4612-ac6c-e7cfaf969fb2",
   "metadata": {},
   "outputs": [],
   "source": [
    "s = pd.Series(list(range(15)))\n",
    "s"
   ]
  },
  {
   "cell_type": "markdown",
   "id": "25063201-ffda-4fec-b886-90d4ce296c88",
   "metadata": {},
   "source": [
    "### `pd.cut(s, bins=n)`\n",
    "\n",
    "We can either specify the number of bins to create, and pandas will create bins of equal size, or we can specify the bin edges ourselves by passing a list of bin edges or cutoffs."
   ]
  },
  {
   "cell_type": "code",
   "execution_count": null,
   "id": "ecc4a908-48a2-41fd-8f28-b571b645cdae",
   "metadata": {},
   "outputs": [],
   "source": [
    "# Bin values into 3 equal-sized bins.\n",
    "\n",
    "pd.cut(s, 3)"
   ]
  },
  {
   "cell_type": "code",
   "execution_count": null,
   "id": "8264fdab-d494-4f63-bec2-1f8795de358c",
   "metadata": {},
   "outputs": [],
   "source": [
    "# Bin values into bins with the cutoffs I specify. The bins are no longer of equal size.\n",
    "\n",
    "pd.cut(s, [-1, 3, 12, 16])"
   ]
  },
  {
   "cell_type": "code",
   "execution_count": null,
   "id": "e74443ba-a008-4be2-9244-e75022f308ca",
   "metadata": {},
   "outputs": [],
   "source": [
    "# How many values fall into each bin? I can chain on the value_counts method.\n",
    "\n",
    "pd.cut(s, 3).value_counts()"
   ]
  },
  {
   "cell_type": "markdown",
   "id": "937a8fe6-c411-40f9-993c-2dff05d302d3",
   "metadata": {},
   "source": [
    "### `value_counts(bins=n)`\n",
    "\n",
    "The `value_counts` method can also be valuable here. It has a parameter named `bins`, which will allow us to quickly bin and group our data at the same time if that is our desired end goal."
   ]
  },
  {
   "cell_type": "code",
   "execution_count": null,
   "id": "383ba4af-dd8c-4de5-8c0a-d6393c0405df",
   "metadata": {},
   "outputs": [],
   "source": [
    "s.value_counts(bins=3)"
   ]
  },
  {
   "cell_type": "markdown",
   "id": "594b4a8b-5936-40f0-b0ac-a49b1a67c161",
   "metadata": {},
   "source": [
    "## Plotting Data\n",
    "\n",
    "**The `.plot()` method** allows us to quickly visualize the data in a Series. It's built on top of Matplotlib!\n",
    "\n",
    "\n",
    "- By default, Matplotlib will choose the best type of plot for us.\n",
    "\n",
    "\n",
    "- We can also customize our plot using the paramters of the `.plot` method or by using Matplot lib if we like. We will look at examples of both ways below.\n",
    "\n",
    "Check the docs [here](https://pandas.pydata.org/pandas-docs/version/0.24.2/reference/api/pandas.Series.plot.html) for more on the `.plot()` method."
   ]
  },
  {
   "cell_type": "code",
   "execution_count": null,
   "id": "b7f4ee74-2a57-450c-bfbd-98c263d834d3",
   "metadata": {},
   "outputs": [],
   "source": [
    "# Matplotlib is choosing the plot for us here, and it might tell the story we want.\n",
    "\n",
    "nums_series = pd.Series([1, 5, 5, 5, 10, 20, 100, 40])\n",
    "nums_series.plot()\n",
    "\n",
    "plt.show()"
   ]
  },
  {
   "cell_type": "markdown",
   "id": "b4994d38-a85d-467f-98df-eafbb945da95",
   "metadata": {},
   "source": [
    "We can also use specific types of visualizations like this:"
   ]
  },
  {
   "cell_type": "code",
   "execution_count": null,
   "id": "d6de2fd2-abc6-4315-8af2-a749e69d0452",
   "metadata": {},
   "outputs": [],
   "source": [
    "# So, here we specify the type of plot we would like Matplotlib to use.\n",
    "nums_series.plot()\n",
    "\n",
    "plt.show()"
   ]
  },
  {
   "cell_type": "markdown",
   "id": "74de2c2b-d01f-49e9-a41a-153408adecd7",
   "metadata": {},
   "source": [
    "The `.value_counts` method returns a Series, so we can call `.plot` method on the resulting Series; this is called method chaining."
   ]
  },
  {
   "cell_type": "code",
   "execution_count": null,
   "id": "41c60ff5-e849-4124-8733-59eb695d5873",
   "metadata": {},
   "outputs": [],
   "source": [
    "# Construct the Series.\n",
    "lets_series = pd.Series(['a', 'b', 'a', 'c', 'b', 'a', 'd', 'a'])\n",
    "lets_series.value_counts()"
   ]
  },
  {
   "cell_type": "code",
   "execution_count": null,
   "id": "7bcf1d4c-5f23-4f36-989e-ad5c9fd2e12e",
   "metadata": {},
   "outputs": [],
   "source": [
    "# Plot the value_counts of our Series. Rotate our x-tick values.\n",
    "lets_series.value_counts().plot.bar(rot=0)\n",
    "\n",
    "plt.show()"
   ]
  },
  {
   "cell_type": "markdown",
   "id": "74c6dbc0-5286-437e-9d11-f4e06a3c2c13",
   "metadata": {},
   "source": [
    "Any additional keyword arguments passed to pandas `.plot` method will be passed along to the corresponding Matplotlib functions. In addition, we can use Matplotlib the same way we have before to set titles, tweak axis labels, etc. Let's look at both ways."
   ]
  },
  {
   "cell_type": "code",
   "execution_count": null,
   "id": "6ef2c8a5-1b9a-44f1-8f81-1428f015bcef",
   "metadata": {},
   "outputs": [],
   "source": [
    "# Use the parameters of the .plot method to customize my chart.\n",
    "\n",
    "pd.Series(['a', 'b', 'a', 'c', 'b', 'a', 'd', 'a']).value_counts().plot.bar(title='Example Pandas Visualization', \n",
    "                                                                            rot=0, \n",
    "                                                                            color='firebrick', \n",
    "                                                                            ec='black',\n",
    "                                                                            width=.9).set(xlabel='Letter',\n",
    "                                                                                         ylabel='Frequency')\n",
    "\n",
    "plt.show()"
   ]
  },
  {
   "cell_type": "code",
   "execution_count": null,
   "id": "00be20db-eeab-48a8-92c7-21a6eab4aa09",
   "metadata": {},
   "outputs": [],
   "source": [
    "# Use Matplotlib to customize.\n",
    "\n",
    "pd.Series(['a', 'b', 'a', 'c', 'b', 'a', 'd', 'a']).value_counts().plot.bar(color='firebrick', width=.9)\n",
    "plt.title('Example Pandas Visualization')\n",
    "plt.xticks(rotation=0)\n",
    "plt.xlabel('Letter')\n",
    "plt.ylabel('Frequency')\n",
    "\n",
    "plt.show()"
   ]
  },
  {
   "cell_type": "markdown",
   "id": "62889df4-0944-42d9-92f8-6b78a4d55fa7",
   "metadata": {},
   "source": [
    "## Further Reading\n",
    "\n",
    "- [pandas documentation: `Series`](https://pandas.pydata.org/pandas-docs/stable/getting_started/dsintro.html#series)"
   ]
  },
  {
   "cell_type": "markdown",
   "id": "4d4572a5-5dcf-4e6a-8c3d-487f25abdc4e",
   "metadata": {},
   "source": [
    "___"
   ]
  },
  {
   "cell_type": "markdown",
   "id": "94de76d3-842e-47be-8740-fb3d67d61d50",
   "metadata": {},
   "source": [
    "## Exercises Part III"
   ]
  },
  {
   "cell_type": "markdown",
   "id": "397a906e-9931-4c31-bfc5-14cc8981ec3f",
   "metadata": {},
   "source": [
    "Use pandas to create a Series named letters from the following string:\n",
    "\n",
    "        'hnvidduckkqxwymbimkccexbkmqygkxoyndmcxnwqarhyffsjpsrabtjzsypmzadfavyrnndndvswreauxovncxtwzpwejilzjrmmbbgbyxvjtewqthafnbkqplarokkyydtubbmnexoypulzwfhqvckdpqtpoppzqrmcvhhpwgjwupgzhiofohawytlsiyecuproguy'\n",
    "\n",
    "1. Which letter occurs the most frequently in the letters Series? "
   ]
  },
  {
   "cell_type": "code",
   "execution_count": null,
   "id": "88fc7418-e388-484d-a9d4-27e088fae454",
   "metadata": {},
   "outputs": [],
   "source": []
  },
  {
   "cell_type": "markdown",
   "id": "0d37452f-f510-46d5-bd59-b91e028913dc",
   "metadata": {},
   "source": [
    "2. Which letter occurs the least frequently?\n",
    "    "
   ]
  },
  {
   "cell_type": "code",
   "execution_count": null,
   "id": "dc339a4e-44ae-4e10-bf48-115a35bf5133",
   "metadata": {},
   "outputs": [],
   "source": []
  },
  {
   "cell_type": "markdown",
   "id": "d83f783f-a6ce-45e7-b75a-dc7c3bfb8478",
   "metadata": {},
   "source": [
    "3. How many vowels are in the Series?\n",
    "    "
   ]
  },
  {
   "cell_type": "code",
   "execution_count": null,
   "id": "f195099f-82b0-48f3-a8f5-6f53f629d740",
   "metadata": {},
   "outputs": [],
   "source": []
  },
  {
   "cell_type": "markdown",
   "id": "a1922248-70e6-4a13-b965-0eeb6dbbbada",
   "metadata": {},
   "source": [
    "4. How many consonants are in the Series?\n",
    "    "
   ]
  },
  {
   "cell_type": "code",
   "execution_count": null,
   "id": "2a708c79-f49c-4bf0-9a2f-e05a0870a37d",
   "metadata": {},
   "outputs": [],
   "source": []
  },
  {
   "cell_type": "markdown",
   "id": "26ad6d04-30aa-4847-8342-093a33314feb",
   "metadata": {},
   "source": [
    "5. Create a Series that has all of the same letters but uppercased.\n",
    "    "
   ]
  },
  {
   "cell_type": "code",
   "execution_count": null,
   "id": "1bd19d66-98a0-445f-8e61-5238f4c8a19b",
   "metadata": {},
   "outputs": [],
   "source": []
  },
  {
   "cell_type": "markdown",
   "id": "3e569924-d0f8-405c-9fe7-2c3d10848879",
   "metadata": {},
   "source": [
    "6. Create a bar plot of the frequencies of the 6 most commonly occuring\n",
    "      letters."
   ]
  },
  {
   "cell_type": "code",
   "execution_count": null,
   "id": "609f4a0b-6b70-4a88-ae3f-5e054967d86e",
   "metadata": {},
   "outputs": [],
   "source": []
  },
  {
   "cell_type": "markdown",
   "id": "c84cc5ce-d56f-43af-927e-bd939ec9587a",
   "metadata": {},
   "source": [
    "Use pandas to create a Series named numbers from the following list:\n",
    "\n",
    "        ['$796,459.41', '$278.60', '$482,571.67', '$4,503,915.98', '$2,121,418.3', '$1,260,813.3', '$87,231.01', '$1,509,175.45', '$4,138,548.00', '$2,848,913.80', '$594,715.39', '$4,789,988.17', '$4,513,644.5', '$3,191,059.97', '$1,758,712.24', '$4,338,283.54', '$4,738,303.38', '$2,791,759.67', '$769,681.94', '$452,650.23']"
   ]
  },
  {
   "cell_type": "markdown",
   "id": "ff234477-ad66-460a-a3d1-0c0d7ccd02cf",
   "metadata": {},
   "source": [
    "7. What is the data type of the numbers Series?"
   ]
  },
  {
   "cell_type": "code",
   "execution_count": null,
   "id": "0d60c815-39a3-4b81-b283-c1bac92155b5",
   "metadata": {},
   "outputs": [],
   "source": []
  },
  {
   "cell_type": "markdown",
   "id": "5f8c80db-51c1-4d07-9f94-a4cf4e0e5104",
   "metadata": {},
   "source": [
    "8. How many elements are in the number Series?\n",
    "    "
   ]
  },
  {
   "cell_type": "code",
   "execution_count": null,
   "id": "950670fb-49f5-4c57-ae4d-bb072f5d5386",
   "metadata": {},
   "outputs": [],
   "source": []
  },
  {
   "cell_type": "markdown",
   "id": "a379edbd-0fde-4734-9923-7cbbcfc634a9",
   "metadata": {},
   "source": [
    "9. Perform the necessary manipulations by accessing Series attributes and methods to convert the numbers Series to a numeric data type.\n",
    "    "
   ]
  },
  {
   "cell_type": "code",
   "execution_count": null,
   "id": "ffac7f28-4513-4ce6-9fd0-321dc61469e1",
   "metadata": {},
   "outputs": [],
   "source": []
  },
  {
   "cell_type": "markdown",
   "id": "ceb670ad-ccf5-4fdb-9db3-f1052f59468f",
   "metadata": {},
   "source": [
    "10. Run the code to discover the maximum value from the Series."
   ]
  },
  {
   "cell_type": "code",
   "execution_count": null,
   "id": "905c9ae4-f3d7-4098-9f8b-e83ab3cd7b2b",
   "metadata": {},
   "outputs": [],
   "source": []
  },
  {
   "cell_type": "markdown",
   "id": "b164d272-d8c3-468a-82e7-1af6255214b9",
   "metadata": {},
   "source": [
    "11. Run the code to discover the minimum value from the Series."
   ]
  },
  {
   "cell_type": "code",
   "execution_count": null,
   "id": "3941e01e-b801-47db-a0fb-0fa874db2760",
   "metadata": {},
   "outputs": [],
   "source": []
  },
  {
   "cell_type": "markdown",
   "id": "3b5e5ea8-486e-45cf-9b2d-6ca69349f0be",
   "metadata": {},
   "source": [
    "12. What is the range of the values in the Series?\n",
    "    "
   ]
  },
  {
   "cell_type": "code",
   "execution_count": null,
   "id": "c38a4cdf-5164-4acf-8cb1-09019bcab7ee",
   "metadata": {},
   "outputs": [],
   "source": []
  },
  {
   "cell_type": "markdown",
   "id": "1ad1c93f-f43c-41f5-b9b5-683628c5fcbc",
   "metadata": {},
   "source": [
    "13. Bin the data into 4 equally sized intervals or bins and output how many values fall into each bin.\n",
    "    "
   ]
  },
  {
   "cell_type": "code",
   "execution_count": null,
   "id": "58d9d9a6-8345-4637-85db-db2e7be934c1",
   "metadata": {},
   "outputs": [],
   "source": []
  },
  {
   "cell_type": "markdown",
   "id": "3d677c5a-1445-43c1-851b-f2bbfba6e91c",
   "metadata": {},
   "source": [
    "14. Plot the binned data in a meaningful way. Be sure to include a title and axis labels."
   ]
  },
  {
   "cell_type": "code",
   "execution_count": null,
   "id": "35defaf8-1312-446c-923c-913951addf6f",
   "metadata": {},
   "outputs": [],
   "source": []
  },
  {
   "cell_type": "markdown",
   "id": "bcb98d30-fd0a-4db8-a675-eadb1b6fd495",
   "metadata": {},
   "source": [
    "Use pandas to create a Series named exam_scores from the following list:\n",
    "\n",
    "        [60, 86, 75, 62, 93, 71, 60, 83, 95, 78, 65, 72, 69, 81, 96, 80, 85, 92, 82, 78]\n",
    "        \n",
    "15. How many elements are in the exam_scores Series?"
   ]
  },
  {
   "cell_type": "code",
   "execution_count": null,
   "id": "3242aaef-b18f-4512-a42c-68eb54ad42db",
   "metadata": {},
   "outputs": [],
   "source": []
  },
  {
   "cell_type": "markdown",
   "id": "265db79d-b86f-4342-a299-4c32e0996f8a",
   "metadata": {},
   "source": [
    "16. Run the code to discover the minimum, the maximum, the mean, and the median scores for the exam_scores Series.\n",
    "    "
   ]
  },
  {
   "cell_type": "code",
   "execution_count": null,
   "id": "af3717ac-8d12-4318-bd8c-02ee9478167e",
   "metadata": {},
   "outputs": [],
   "source": []
  },
  {
   "cell_type": "markdown",
   "id": "36081a7e-d2ef-48e0-9ce4-db26a99a6579",
   "metadata": {},
   "source": [
    "17. Plot the Series in a meaningful way and make sure your chart has a title and axis labels."
   ]
  },
  {
   "cell_type": "code",
   "execution_count": null,
   "id": "9be965e8-0e12-4ee5-ab1b-b1ae02ac6f63",
   "metadata": {},
   "outputs": [],
   "source": []
  },
  {
   "cell_type": "markdown",
   "id": "f87efbeb-3e99-4faf-8a96-4ae109812329",
   "metadata": {},
   "source": [
    "18. Write the code necessary to implement a curve for your exam_grades Series and save this as curved_grades. Add the necessary points to the highest grade to make it 100, and add the same number of points to every other score in the Series as well.\n",
    "    "
   ]
  },
  {
   "cell_type": "code",
   "execution_count": null,
   "id": "8e473199-afb4-4aaf-9cde-a625e289411b",
   "metadata": {},
   "outputs": [],
   "source": []
  },
  {
   "cell_type": "markdown",
   "id": "4bc71d97-4cd0-4f47-8a9a-649f61d933db",
   "metadata": {},
   "source": [
    "19. Use a method to convert each of the numeric values in the curved_grades Series into a categorical value of letter grades. For example, 86 should be a 'B' and 95 should be an 'A'. Save this as a Series named letter_grades."
   ]
  },
  {
   "cell_type": "code",
   "execution_count": null,
   "id": "35b2050b-816c-4178-b2f4-2b8d740e3e66",
   "metadata": {},
   "outputs": [],
   "source": []
  },
  {
   "cell_type": "markdown",
   "id": "cf6a291c-e7a7-45b7-8df1-17b608b3e59b",
   "metadata": {},
   "source": [
    "20. Plot your new categorical letter_grades Series in a meaninful way and include a title and axis labels."
   ]
  },
  {
   "cell_type": "code",
   "execution_count": null,
   "id": "e46bdcce-e7c5-41ee-8f58-8b92541ecd4d",
   "metadata": {},
   "outputs": [],
   "source": []
  },
  {
   "cell_type": "markdown",
   "id": "f069f199-e5db-4ce0-a9a7-bbce5445cf01",
   "metadata": {},
   "source": [
    "## More Practice\n",
    "\n",
    "Revisit the exercises from [https://gist.github.com/ryanorsinger/f7d7c1dd6a328730c04f3dc5c5c69f3a](https://gist.github.com/ryanorsinger/f7d7c1dd6a328730c04f3dc5c5c69f3a). \n",
    "\n",
    "After you complete each set of Series exercises, use any extra time you have to pursue the challenge below. You can work on these in the same notebook or file as the Series exercises or create a new practice notebook you can work in a little every day to keep your python and pandas skills sharp by trying to solve problems in multiple ways. *These are not a part of the Series exercises grade, so don't worry if it takes you days or weeks to meet the challenge.*\n",
    "\n",
    "**Challenge yourself to be able to...**\n",
    "\n",
    "- solve each using vanilla python.\n",
    "    \n",
    "- solve each using list comprehensions.\n",
    "    \n",
    "- solve each by using a pandas Series for the data structure instead of lists and using vectorized operations instead of loops and list comprehensions."
   ]
  }
 ],
 "metadata": {
  "kernelspec": {
   "display_name": "Python 3.9.7 64-bit ('base': conda)",
   "language": "python",
   "name": "python397jvsc74a57bd038cca0c38332a56087b24af0bc80247f4fced29cb4f7f437d91dc159adec9c4e"
  },
  "language_info": {
   "codemirror_mode": {
    "name": "ipython",
    "version": 3
   },
   "file_extension": ".py",
   "mimetype": "text/x-python",
   "name": "python",
   "nbconvert_exporter": "python",
   "pygments_lexer": "ipython3",
   "version": "3.9.7"
  }
 },
 "nbformat": 4,
 "nbformat_minor": 5
}
